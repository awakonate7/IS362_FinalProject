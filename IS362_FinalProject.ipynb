{
 "cells": [
  {
   "cell_type": "markdown",
   "id": "0f3ad8a8",
   "metadata": {},
   "source": [
    "Awa Konate - IS362 FINAL PROJECT\n",
    "For my project, I decided to analyse the best-selling games. I will obtain and plot the most sold platforms and producers."
   ]
  },
  {
   "cell_type": "code",
   "execution_count": null,
   "id": "5c2687ee",
   "metadata": {},
   "outputs": [],
   "source": [
    "from pandas import DataFrame, read_csv\n",
    "import pandas as pd\n",
    "import numpy as np\n",
    "from matplotlib import pyplot as plt\n",
    "import matplotlib.pyplot as plt\n",
    "import requests"
   ]
  },
  {
   "cell_type": "code",
   "execution_count": null,
   "id": "9e7a9e59",
   "metadata": {},
   "outputs": [],
   "source": [
    "platformslist = pd.read_csv(\"platform.csv\")"
   ]
  },
  {
   "cell_type": "code",
   "execution_count": null,
   "id": "035a6056",
   "metadata": {},
   "outputs": [],
   "source": [
    "platformslist"
   ]
  },
  {
   "cell_type": "code",
   "execution_count": null,
   "id": "3dce3409",
   "metadata": {},
   "outputs": [],
   "source": [
    "\tPC\tPlatform\tCompany\n",
    "0\t0\tPC\tPC\n",
    "1\t1\tPlaystation 4\tPS4\n",
    "2\t2\tXbox One\tXBOXONE\n",
    "3\t3\tWii U\twii-u\n",
    "4\t4\tNintendo Switch\tSwitch\n",
    "5\t5\tPlaystation 3\tPS3\n",
    "6\t6\tXBOX 360\tXBOX360\n",
    "7\t7\tWii\tWii\n",
    "8\t8\tMac\tMac\n",
    "9\t9\tLinux\tLinux\n",
    "10\t10\tHANDHELDS\tNaN\n",
    "11\t11\tNintendo 3DS\t3DS\n",
    "12\t12\tPlayStation Vita\tvita\n",
    "13\t13\tDS\tDS\n",
    "14\t14\tPlaystation Portable\tPSP\n",
    "15\t15\tMOBILE\tNaN\n",
    "16\t16\tiPhone\tiPhone\n",
    "17\t17\tWindows Phone\twp\n",
    "18\t18\tAndroid\tAndroid\n",
    "19\t19\tCLASSICS\tNaN\n",
    "20\t20\tPlaystation 2\tPS2\n",
    "21\t21\tXbox\tXbox\n",
    "22\t22\tGame Boy Advance\tGBA\n",
    "23\t23\tGamecube\tGC\n",
    "24\t24\tPlaystation\tPSX\n",
    "25\t25\tNintendo 64\tN64\n",
    "26\t26\tDreamcast\tDC\n",
    "27\t27\tSEGA SATURN\tSATURN\n",
    "28\t28\tGame Boy Color\tGBC\n",
    "29\t29\tSEGA GENESIS\tGENESIS\n",
    "30\t30\tSuper Nintendo Entertainment System\tSNES\n",
    "31\t31\tSEGA Mastersystem\tSEGAMS\n",
    "32\t32\tNintendo Entertainment System\tNES\n",
    "33\t33\tSEGACD\tSEGACD\n",
    "34\t34\tNGAGE\tNGAGE\n",
    "35\t35\tGame Gear\tGAMEGEAR\n",
    "36\t36\tCommodore 64\tc64\n",
    "37\t37\tTurboGrafx-16\ttg16\n",
    "38\t38\tMISC\tNaN\n",
    "39\t39\tArcade\tarcade"
   ]
  },
  {
   "cell_type": "code",
   "execution_count": null,
   "id": "5cd80c23",
   "metadata": {},
   "outputs": [],
   "source": [
    "platformslist[\"Platform\"].count()"
   ]
  },
  {
   "cell_type": "markdown",
   "id": "2343c73d",
   "metadata": {},
   "source": [
    "40\n",
    "\n",
    "Import rank of best seller video game\n"
   ]
  },
  {
   "cell_type": "code",
   "execution_count": null,
   "id": "7173f492",
   "metadata": {},
   "outputs": [],
   "source": [
    "vgrank = pd.read_csv(\"vgsales.csv\")"
   ]
  },
  {
   "cell_type": "code",
   "execution_count": null,
   "id": "e187fa25",
   "metadata": {},
   "outputs": [],
   "source": [
    "vgrank"
   ]
  },
  {
   "cell_type": "markdown",
   "id": "999f3823",
   "metadata": {},
   "source": [
    "Best Rank Platform Count"
   ]
  },
  {
   "cell_type": "code",
   "execution_count": null,
   "id": "cb314871",
   "metadata": {},
   "outputs": [],
   "source": [
    "\tRank\tName\tPlatform\tYear\tGenre\tPublisher\tNA_Sales\tEU_Sales\tJP_Sales\tOther_Sales\tGlobal_Sales\n",
    "0\t1\tWii Sports\tWii\t2006.0\tSports\tNintendo\t41.49\t29.02\t3.77\t8.46\t82.74\n",
    "1\t2\tSuper Mario Bros.\tNES\t1985.0\tPlatform\tNintendo\t29.08\t3.58\t6.81\t0.77\t40.24\n",
    "2\t3\tMario Kart Wii\tWii\t2008.0\tRacing\tNintendo\t15.85\t12.88\t3.79\t3.31\t35.82\n",
    "3\t4\tWii Sports Resort\tWii\t2009.0\tSports\tNintendo\t15.75\t11.01\t3.28\t2.96\t33.00\n",
    "4\t5\tPokemon Red/Pokemon Blue\tGB\t1996.0\tRole-Playing\tNintendo\t11.27\t8.89\t10.22\t1.00\t31.37\n",
    "...\t...\t...\t...\t...\t...\t...\t...\t...\t...\t...\t...\n",
    "16593\t16596\tWoody Woodpecker in Crazy Castle 5\tGBA\t2002.0\tPlatform\tKemco\t0.01\t0.00\t0.00\t0.00\t0.01\n",
    "16594\t16597\tMen in Black II: Alien Escape\tGC\t2003.0\tShooter\tInfogrames\t0.01\t0.00\t0.00\t0.00\t0.01\n",
    "16595\t16598\tSCORE International Baja 1000: The Official Game\tPS2\t2008.0\tRacing\tActivision\t0.00\t0.00\t0.00\t0.00\t0.01\n",
    "16596\t16599\tKnow How 2\tDS\t2010.0\tPuzzle\t7G//AMES\t0.00\t0.01\t0.00\t0.00\t0.01\n",
    "16597\t16600\tSpirits & Spells\tGBA\t2003.0\tPlatform\tWanadoo\t0.01\t0.00\t0.00\t0.00\t0.01"
   ]
  },
  {
   "cell_type": "code",
   "execution_count": null,
   "id": "50101f8d",
   "metadata": {},
   "outputs": [],
   "source": [
    "16598 rows × 11 columns"
   ]
  },
  {
   "cell_type": "markdown",
   "id": "34b1964f",
   "metadata": {},
   "source": [
    "Best Rank Platform Count"
   ]
  },
  {
   "cell_type": "code",
   "execution_count": null,
   "id": "6baf4e89",
   "metadata": {},
   "outputs": [],
   "source": [
    "marketrate = vgrank.groupby(['Platform']).size().sort_values(ascending=False)"
   ]
  },
  {
   "cell_type": "code",
   "execution_count": null,
   "id": "f6064e06",
   "metadata": {},
   "outputs": [],
   "source": [
    "marketrate"
   ]
  },
  {
   "cell_type": "code",
   "execution_count": null,
   "id": "77f189d8",
   "metadata": {},
   "outputs": [],
   "source": [
    "Platform\n",
    "DS      2163\n",
    "PS2     2161\n",
    "PS3     1329\n",
    "Wii     1325\n",
    "X360    1265\n",
    "PSP     1213\n",
    "PS      1196\n",
    "PC       960\n",
    "XB       824\n",
    "GBA      822\n",
    "GC       556\n",
    "3DS      509\n",
    "PSV      413\n",
    "PS4      336\n",
    "N64      319\n",
    "SNES     239\n",
    "XOne     213\n",
    "SAT      173\n",
    "WiiU     143\n",
    "2600     133\n",
    "NES       98\n",
    "GB        98\n",
    "DC        52\n",
    "GEN       27\n",
    "NG        12\n",
    "SCD        6\n",
    "WS         6\n",
    "3DO        3\n",
    "TG16       2\n",
    "PCFX       1\n",
    "GG         1\n",
    "dtype: int64"
   ]
  },
  {
   "cell_type": "markdown",
   "id": "ad42b23f",
   "metadata": {},
   "source": [
    "Sales totals for each platform"
   ]
  },
  {
   "cell_type": "code",
   "execution_count": null,
   "id": "e3992a66",
   "metadata": {},
   "outputs": [],
   "source": [
    "vgrank.groupby(['Platform'])['Global_Sales'].agg('sum').sort_values(ascending=False)"
   ]
  },
  {
   "cell_type": "code",
   "execution_count": null,
   "id": "2ed6d322",
   "metadata": {},
   "outputs": [],
   "source": [
    "Platform\n",
    "PS2     1255.64\n",
    "X360     979.96\n",
    "PS3      957.84\n",
    "Wii      926.71\n",
    "DS       822.49\n",
    "PS       730.66\n",
    "GBA      318.50\n",
    "PSP      296.28\n",
    "PS4      278.10\n",
    "PC       258.82\n",
    "XB       258.26\n",
    "GB       255.45\n",
    "NES      251.07\n",
    "3DS      247.46\n",
    "N64      218.88\n",
    "SNES     200.05\n",
    "GC       199.36\n",
    "XOne     141.06\n",
    "2600      97.08\n",
    "WiiU      81.86\n",
    "PSV       61.93\n",
    "SAT       33.59\n",
    "GEN       28.36\n",
    "DC        15.97\n",
    "SCD        1.87\n",
    "NG         1.44\n",
    "WS         1.42\n",
    "TG16       0.16\n",
    "3DO        0.10\n",
    "GG         0.04\n",
    "PCFX       0.03\n",
    "Name: Global_Sales, dtype: float64"
   ]
  },
  {
   "cell_type": "markdown",
   "id": "07aff693",
   "metadata": {},
   "source": [
    "Sales total by company"
   ]
  },
  {
   "cell_type": "code",
   "execution_count": null,
   "id": "46e877e9",
   "metadata": {},
   "outputs": [],
   "source": [
    "vgrank.groupby(['Publisher'])['Global_Sales'].agg('sum').sort_values(ascending=False)"
   ]
  },
  {
   "cell_type": "code",
   "execution_count": null,
   "id": "5c3d41d5",
   "metadata": {},
   "outputs": [],
   "source": [
    "Publisher\n",
    "Nintendo                       1786.56\n",
    "Electronic Arts                1110.32\n",
    "Activision                      727.46\n",
    "Sony Computer Entertainment     607.50\n",
    "Ubisoft                         474.72\n",
    "                                ...   \n",
    "Takuyo                            0.01\n",
    "Otomate                           0.01\n",
    "Epic Games                        0.01\n",
    "Inti Creates                      0.01\n",
    "Interworks Unlimited, Inc.        0.01\n",
    "Name: Global_Sales, Length: 578, dtype: float64"
   ]
  },
  {
   "cell_type": "code",
   "execution_count": null,
   "id": "0ddf1c6c",
   "metadata": {},
   "outputs": [],
   "source": [
    "vgrank.head(20)"
   ]
  },
  {
   "cell_type": "code",
   "execution_count": null,
   "id": "b80304c5",
   "metadata": {},
   "outputs": [],
   "source": [
    "\tRank\tName\tPlatform\tYear\tGenre\tPublisher\tNA_Sales\tEU_Sales\tJP_Sales\tOther_Sales\tGlobal_Sales\n",
    "0\t1\tWii Sports\tWii\t2006.0\tSports\tNintendo\t41.49\t29.02\t3.77\t8.46\t82.74\n",
    "1\t2\tSuper Mario Bros.\tNES\t1985.0\tPlatform\tNintendo\t29.08\t3.58\t6.81\t0.77\t40.24\n",
    "2\t3\tMario Kart Wii\tWii\t2008.0\tRacing\tNintendo\t15.85\t12.88\t3.79\t3.31\t35.82\n",
    "3\t4\tWii Sports Resort\tWii\t2009.0\tSports\tNintendo\t15.75\t11.01\t3.28\t2.96\t33.00\n",
    "4\t5\tPokemon Red/Pokemon Blue\tGB\t1996.0\tRole-Playing\tNintendo\t11.27\t8.89\t10.22\t1.00\t31.37\n",
    "5\t6\tTetris\tGB\t1989.0\tPuzzle\tNintendo\t23.20\t2.26\t4.22\t0.58\t30.26\n",
    "6\t7\tNew Super Mario Bros.\tDS\t2006.0\tPlatform\tNintendo\t11.38\t9.23\t6.50\t2.90\t30.01\n",
    "7\t8\tWii Play\tWii\t2006.0\tMisc\tNintendo\t14.03\t9.20\t2.93\t2.85\t29.02\n",
    "8\t9\tNew Super Mario Bros. Wii\tWii\t2009.0\tPlatform\tNintendo\t14.59\t7.06\t4.70\t2.26\t28.62\n",
    "9\t10\tDuck Hunt\tNES\t1984.0\tShooter\tNintendo\t26.93\t0.63\t0.28\t0.47\t28.31\n",
    "10\t11\tNintendogs\tDS\t2005.0\tSimulation\tNintendo\t9.07\t11.00\t1.93\t2.75\t24.76\n",
    "11\t12\tMario Kart DS\tDS\t2005.0\tRacing\tNintendo\t9.81\t7.57\t4.13\t1.92\t23.42\n",
    "12\t13\tPokemon Gold/Pokemon Silver\tGB\t1999.0\tRole-Playing\tNintendo\t9.00\t6.18\t7.20\t0.71\t23.10\n",
    "13\t14\tWii Fit\tWii\t2007.0\tSports\tNintendo\t8.94\t8.03\t3.60\t2.15\t22.72\n",
    "14\t15\tWii Fit Plus\tWii\t2009.0\tSports\tNintendo\t9.09\t8.59\t2.53\t1.79\t22.00\n",
    "15\t16\tKinect Adventures!\tX360\t2010.0\tMisc\tMicrosoft Game Studios\t14.97\t4.94\t0.24\t1.67\t21.82\n",
    "16\t17\tGrand Theft Auto V\tPS3\t2013.0\tAction\tTake-Two Interactive\t7.01\t9.27\t0.97\t4.14\t21.40\n",
    "17\t18\tGrand Theft Auto: San Andreas\tPS2\t2004.0\tAction\tTake-Two Interactive\t9.43\t0.40\t0.41\t10.57\t20.81\n",
    "18\t19\tSuper Mario World\tSNES\t1990.0\tPlatform\tNintendo\t12.78\t3.75\t3.54\t0.55\t20.61\n",
    "19\t20\tBrain Age: Train Your Brain in Minutes a Day\tDS\t2005.0\tMisc\tNintendo\t4.75\t9.26\t4.16\t2.05\t20.22"
   ]
  },
  {
   "cell_type": "markdown",
   "id": "5a64609d",
   "metadata": {},
   "source": [
    "Sales totals for each group"
   ]
  },
  {
   "cell_type": "code",
   "execution_count": null,
   "id": "07535f87",
   "metadata": {},
   "outputs": [],
   "source": [
    "vgrank2=pd.read_csv(\"group.csv\",header=None)"
   ]
  },
  {
   "cell_type": "code",
   "execution_count": null,
   "id": "d349280e",
   "metadata": {},
   "outputs": [],
   "source": [
    "vgrank2"
   ]
  },
  {
   "cell_type": "code",
   "execution_count": null,
   "id": "6d014ed8",
   "metadata": {},
   "outputs": [],
   "source": [
    "\t0\t1\t2\t3\t4\t5\t6\t7\t8\t9\t10\n",
    "0\t90\tPac-Man\t2600\t1982\tPuzzle\tAtari\t90.60\t5.47\t0.00\t0.91\t97.08\n",
    "1\t12637\tPolicenauts\t3DO\t1995\tAdventure\tKonami Digital Entertainment\t0.00\t0.00\t0.10\t0.00\t0.10\n",
    "2\t33\tPokemon X/Pokemon Y\t3DS\t2013\tRole-Playing\tNintendo\t78.87\t58.52\t97.35\t12.63\t247.46\n",
    "3\t638\tSonic Adventure\tDC\t1998\tPlatform\tSega\t5.43\t1.69\t8.56\t0.27\t15.97\n",
    "4\t7\tNew Super Mario Bros.\tDS\t2006\tPlatform\tNintendo\t390.71\t194.65\t175.57\t60.53\t822.49\n",
    "5\t5\tPokemon Red/Pokemon Blue\tGB\t1996\tRole-Playing\tNintendo\t114.32\t47.82\t85.12\t8.20\t255.45\n",
    "6\t26\tPokemon Ruby/Pokemon Sapphire\tGBA\t2002\tRole-Playing\tNintendo\t187.54\t75.25\t47.33\t7.73\t318.50\n",
    "7\t108\tSuper Smash Bros. Melee\tGC\t2001\tFighting\tNintendo\t133.46\t38.71\t21.58\t5.18\t199.36\n",
    "8\t144\tSonic the Hedgehog 2\tGEN\t1992\tPlatform\tSega\t19.27\t5.52\t2.67\t0.89\t28.36\n",
    "9\t13527\tSonic the Hedgehog 2 (8-bit)\tGG\t1992\tPlatform\tSega\t0.00\t0.00\t0.04\t0.00\t0.04\n",
    "10\t47\tSuper Mario 64\tN64\t1996\tPlatform\tNintendo\t139.02\t41.06\t34.22\t4.38\t218.88\n",
    "11\t2\tSuper Mario Bros.\tNES\t1985\tPlatform\tNintendo\t125.94\t21.15\t98.65\t5.31\t251.07\n",
    "12\t6683\tSamurai Shodown II\tNG\t1994\tFighting\tSNK\t0.00\t0.00\t1.44\t0.00\t1.44\n",
    "13\t84\tThe Sims 3\tPC\t2009\tSimulation\tElectronic Arts\t93.28\t139.68\t0.17\t24.86\t258.82\n",
    "14\t14559\tBlue Breaker: Ken Yorimo Hohoemi o\tPCFX\t1996\tRole-Playing\tNEC\t0.00\t0.00\t0.03\t0.00\t0.03\n",
    "15\tRank\tName\tPlatform\tYear\tGenre\tPublisher\t0.00\t0.00\t0.00\t0.00\t0.00\n",
    "16\t53\tGran Turismo\tPS\t1997\tRacing\tSony Computer Entertainment\t336.51\t213.60\t139.82\t40.91\t730.66\n",
    "17\t18\tGrand Theft Auto: San Andreas\tPS2\t2004\tAction\tTake-Two Interactive\t583.84\t339.29\t139.20\t193.44\t1255.64\n",
    "18\t17\tGrand Theft Auto V\tPS3\t2013\tAction\tTake-Two Interactive\t392.26\t343.71\t79.99\t141.93\t957.84\n",
    "19\t34\tCall of Duty: Black Ops 3\tPS4\t2015\tShooter\tActivision\t96.80\t123.70\t14.30\t43.36\t278.10\n",
    "20\t91\tGrand Theft Auto: Liberty City Stories\tPSP\t2005\tAction\tTake-Two Interactive\t108.99\t68.25\t76.79\t42.19\t296.28\n",
    "21\t715\tMinecraft\tPSV\t2014\tMisc\tSony Computer Entertainment Europe\t16.20\t16.33\t20.96\t8.45\t61.93\n",
    "22\t890\tVirtua Fighter 2\tSAT\t1995\tFighting\tSega\t0.72\t0.54\t32.26\t0.07\t33.59\n",
    "23\t1263\tSonic CD\tSCD\t1993\tPlatform\tSega\t1.00\t0.36\t0.45\t0.05\t1.87\n",
    "24\t19\tSuper Mario World\tSNES\t1990\tPlatform\tNintendo\t61.23\t19.04\t116.55\t3.22\t200.05\n",
    "25\t9225\tDoukyuusei\tTG16\t1995\tAdventure\tNEC\t0.00\t0.00\t0.16\t0.00\t0.16\n",
    "26\t1\tWii Sports\tWii\t2006\tSports\tNintendo\t507.71\t268.38\t69.35\t80.61\t926.71\n",
    "27\t109\tMario Kart 8\tWiiU\t2014\tRacing\tNintendo\t38.32\t24.23\t12.79\t6.45\t81.86\n",
    "28\t3933\tFinal Fantasy\tWS\t2000\tRole-Playing\tSquareSoft\t0.00\t0.00\t1.42\t0.00\t1.42\n",
    "29\t16\tKinect Adventures!\tX360\t2010\tMisc\tMicrosoft Game Studios\t601.05\t280.58\t12.43\t85.54\t979.96\n",
    "30\t80\tHalo 2\tXB\t2004\tShooter\tMicrosoft Game Studios\t186.69\t60.95\t1.38\t8.72\t258.26\n",
    "31\t102\tCall of Duty: Black Ops 3\tXOne\t2015\tShooter\tActivision\t83.19\t45.65\t0.34\t11.92\t141.06"
   ]
  },
  {
   "cell_type": "code",
   "execution_count": null,
   "id": "b727d99d",
   "metadata": {},
   "outputs": [],
   "source": [
    "vgrank2.columns=[\"Rank\",\"Name\",\"Platform\",\"Year\",\"Genre\",\"Publisher\",\"NA_Sales\",\"EU_Sales\",\"JP_Sales\",\"Other_Sales\",\"Global_Sales\"]"
   ]
  },
  {
   "cell_type": "code",
   "execution_count": null,
   "id": "2ecf42bc",
   "metadata": {},
   "outputs": [],
   "source": [
    "vgrank2.drop([\"Rank\"],axis=1)"
   ]
  },
  {
   "cell_type": "code",
   "execution_count": null,
   "id": "76564c5b",
   "metadata": {},
   "outputs": [],
   "source": [
    "Name\tPlatform\tYear\tGenre\tPublisher\tNA_Sales\tEU_Sales\tJP_Sales\tOther_Sales\tGlobal_Sales\n",
    "0\tPac-Man\t2600\t1982\tPuzzle\tAtari\t90.60\t5.47\t0.00\t0.91\t97.08\n",
    "1\tPolicenauts\t3DO\t1995\tAdventure\tKonami Digital Entertainment\t0.00\t0.00\t0.10\t0.00\t0.10\n",
    "2\tPokemon X/Pokemon Y\t3DS\t2013\tRole-Playing\tNintendo\t78.87\t58.52\t97.35\t12.63\t247.46\n",
    "3\tSonic Adventure\tDC\t1998\tPlatform\tSega\t5.43\t1.69\t8.56\t0.27\t15.97\n",
    "4\tNew Super Mario Bros.\tDS\t2006\tPlatform\tNintendo\t390.71\t194.65\t175.57\t60.53\t822.49\n",
    "5\tPokemon Red/Pokemon Blue\tGB\t1996\tRole-Playing\tNintendo\t114.32\t47.82\t85.12\t8.20\t255.45\n",
    "6\tPokemon Ruby/Pokemon Sapphire\tGBA\t2002\tRole-Playing\tNintendo\t187.54\t75.25\t47.33\t7.73\t318.50\n",
    "7\tSuper Smash Bros. Melee\tGC\t2001\tFighting\tNintendo\t133.46\t38.71\t21.58\t5.18\t199.36\n",
    "8\tSonic the Hedgehog 2\tGEN\t1992\tPlatform\tSega\t19.27\t5.52\t2.67\t0.89\t28.36\n",
    "9\tSonic the Hedgehog 2 (8-bit)\tGG\t1992\tPlatform\tSega\t0.00\t0.00\t0.04\t0.00\t0.04\n",
    "10\tSuper Mario 64\tN64\t1996\tPlatform\tNintendo\t139.02\t41.06\t34.22\t4.38\t218.88\n",
    "11\tSuper Mario Bros.\tNES\t1985\tPlatform\tNintendo\t125.94\t21.15\t98.65\t5.31\t251.07\n",
    "12\tSamurai Shodown II\tNG\t1994\tFighting\tSNK\t0.00\t0.00\t1.44\t0.00\t1.44\n",
    "13\tThe Sims 3\tPC\t2009\tSimulation\tElectronic Arts\t93.28\t139.68\t0.17\t24.86\t258.82\n",
    "14\tBlue Breaker: Ken Yorimo Hohoemi o\tPCFX\t1996\tRole-Playing\tNEC\t0.00\t0.00\t0.03\t0.00\t0.03\n",
    "15\tName\tPlatform\tYear\tGenre\tPublisher\t0.00\t0.00\t0.00\t0.00\t0.00\n",
    "16\tGran Turismo\tPS\t1997\tRacing\tSony Computer Entertainment\t336.51\t213.60\t139.82\t40.91\t730.66\n",
    "17\tGrand Theft Auto: San Andreas\tPS2\t2004\tAction\tTake-Two Interactive\t583.84\t339.29\t139.20\t193.44\t1255.64\n",
    "18\tGrand Theft Auto V\tPS3\t2013\tAction\tTake-Two Interactive\t392.26\t343.71\t79.99\t141.93\t957.84\n",
    "19\tCall of Duty: Black Ops 3\tPS4\t2015\tShooter\tActivision\t96.80\t123.70\t14.30\t43.36\t278.10\n",
    "20\tGrand Theft Auto: Liberty City Stories\tPSP\t2005\tAction\tTake-Two Interactive\t108.99\t68.25\t76.79\t42.19\t296.28\n",
    "21\tMinecraft\tPSV\t2014\tMisc\tSony Computer Entertainment Europe\t16.20\t16.33\t20.96\t8.45\t61.93\n",
    "22\tVirtua Fighter 2\tSAT\t1995\tFighting\tSega\t0.72\t0.54\t32.26\t0.07\t33.59\n",
    "23\tSonic CD\tSCD\t1993\tPlatform\tSega\t1.00\t0.36\t0.45\t0.05\t1.87\n",
    "24\tSuper Mario World\tSNES\t1990\tPlatform\tNintendo\t61.23\t19.04\t116.55\t3.22\t200.05\n",
    "25\tDoukyuusei\tTG16\t1995\tAdventure\tNEC\t0.00\t0.00\t0.16\t0.00\t0.16\n",
    "26\tWii Sports\tWii\t2006\tSports\tNintendo\t507.71\t268.38\t69.35\t80.61\t926.71\n",
    "27\tMario Kart 8\tWiiU\t2014\tRacing\tNintendo\t38.32\t24.23\t12.79\t6.45\t81.86\n",
    "28\tFinal Fantasy\tWS\t2000\tRole-Playing\tSquareSoft\t0.00\t0.00\t1.42\t0.00\t1.42\n",
    "29\tKinect Adventures!\tX360\t2010\tMisc\tMicrosoft Game Studios\t601.05\t280.58\t12.43\t85.54\t979.96\n",
    "30\tHalo 2\tXB\t2004\tShooter\tMicrosoft Game Studios\t186.69\t60.95\t1.38\t8.72\t258.26\n",
    "31\tCall of Duty: Black Ops 3\tXOne\t2015\tShooter\tActivision\t83.19\t45.65\t0.34\t11.92\t141.06\n"
   ]
  },
  {
   "cell_type": "code",
   "execution_count": null,
   "id": "2d1ea4ea",
   "metadata": {},
   "outputs": [],
   "source": [
    "graph = vgrank2['Global_Sales'].plot(kind='bar')"
   ]
  },
  {
   "cell_type": "markdown",
   "id": "bea729a8",
   "metadata": {},
   "source": [
    "Conclusion:\n",
    "The best-selling game is San Andreas (GTA). The less-selling game is Blue Breaker: Ken Yorimo Hohoemi.\n",
    "Finally, saving the results by exporting the data to a CSV file."
   ]
  },
  {
   "cell_type": "code",
   "execution_count": null,
   "id": "86cb6d3f",
   "metadata": {},
   "outputs": [],
   "source": [
    "vgrank.to_csv('final.csv')"
   ]
  }
 ],
 "metadata": {
  "kernelspec": {
   "display_name": "Python 3 (ipykernel)",
   "language": "python",
   "name": "python3"
  },
  "language_info": {
   "codemirror_mode": {
    "name": "ipython",
    "version": 3
   },
   "file_extension": ".py",
   "mimetype": "text/x-python",
   "name": "python",
   "nbconvert_exporter": "python",
   "pygments_lexer": "ipython3",
   "version": "3.9.7"
  }
 },
 "nbformat": 4,
 "nbformat_minor": 5
}
